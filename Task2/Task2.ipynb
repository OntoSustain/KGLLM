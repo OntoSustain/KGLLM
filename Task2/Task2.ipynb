{
 "cells": [
  {
   "cell_type": "markdown",
   "metadata": {},
   "source": [
    "## Environment\n"
   ]
  },
  {
   "cell_type": "code",
   "execution_count": 1,
   "metadata": {},
   "outputs": [],
   "source": [
    "import os\n",
    "# Environment define\n",
    "os.environ[\"OPENAI_API_KEY\"] = \"OPENAI_API_KEY\"\n",
    "os.environ[\"OPENAI_BASE_URL\"] = \"https://api.openai.com/v1\"\n"
   ]
  },
  {
   "cell_type": "markdown",
   "metadata": {},
   "source": [
    "## Load Pdf"
   ]
  },
  {
   "cell_type": "code",
   "execution_count": 4,
   "metadata": {},
   "outputs": [
    {
     "name": "stdout",
     "output_type": "stream",
     "text": [
      "31\n"
     ]
    }
   ],
   "source": [
    "from langchain_community.document_loaders import PyPDFLoader\n",
    "\n",
    "loader = PyPDFLoader(\"Data/GRI 306_ Waste 2020.pdf\")\n",
    "pages = loader.load_and_split()\n",
    "print(len(pages))"
   ]
  },
  {
   "cell_type": "markdown",
   "metadata": {},
   "source": [
    "## Prompt Define"
   ]
  },
  {
   "cell_type": "code",
   "execution_count": 8,
   "metadata": {},
   "outputs": [],
   "source": [
    "from typing import List\n",
    "from langchain_openai import ChatOpenAI\n",
    "from langchain_core.pydantic_v1 import BaseModel, Field\n",
    "from langchain_core.prompts import ChatPromptTemplate\n",
    "\n",
    "# Define the structure for Indicators\n",
    "class IndicatorTriples(BaseModel):\n",
    "    \"\"\"Identifying information about indicators.\"\"\"\n",
    "    indicators: List[str] = Field(\n",
    "        description=\"A sustainability reporting indicator is defined as 'a single measurement from which quantitative conclusions on the environmental phenomenon can be inferred'. \"\n",
    "                    \"If the provided text does not contain specific sustainability reporting indicators as defined by the task, return: None.\"\n",
    "    )\n",
    "    triples: List[str] = Field(\n",
    "        description=\"Extract triples (subject, predicate, object).\"\n",
    "    )\n",
    "\n",
    "# Define the prompt template\n",
    "system= \"\"\"You are a knowledge graph engineer tasked with extracting triples (subject, predicate, object) from a sustainability reporting standard text to populate a knowledge graph. \n",
    "\n",
    "Focus exclusively on sustainability reporting indicators. \n",
    "Definition: a single quantity of measure from which quantitative conclusions on the environmental phenomenon can be inferred. \n",
    "\n",
    "### Indication ###\n",
    "There are 4 kinds of predicates that can be used for extracting triples: \n",
    "1. Has quantity kind: Relates the indicator to the measurement quantity kind. \n",
    "    - A Quantity Kind is any observable property that can be measured and quantified numerically. \n",
    "    - Familiar examples include physical properties such as length, mass, time, force, energy, power, electric charge, etc. \n",
    "    - Less familiar examples include currency, interest rate, price-to-earning ratio, and information capacity. \n",
    "    - EACH INDICATOR HAS ONLY ONE SINGLE QUANTITY KIND.\n",
    "2. Has measurement phenomenon: Relates the indicator to the environmental phenomenon measured. \n",
    "3. Has unit: Relates the indicator to the required unit derived from sustainability standards. \n",
    "    - A unit is a particular quantity value that has been chosen as a scale for measuring other quantities of the same kind (more generally of equivalent dimension). \n",
    "    - For example, the meter is a quantity of length that has been rigorously defined and standardized by the BIPM (International Board of Weights and Measures). \n",
    "    - THIS PROPERTY IS OPTIONAL. SOMETIMES THE REQUIRED UNITS ARE SPECIFIED IN THE STANDARD, BUT SOMETIMES NOT. \n",
    "4. Has applicability: Relates the indicator to its applicability status, which can be either optional (indicated by 'if applicable') or mandatory (indicated by 'shall'). \n",
    "\n",
    "There are some requirements for extracted indicators and triples: \n",
    "1. If the provided text does not contain specific sustainability reporting indicators as defined by the task, return: None. \n",
    "2. The extracted indicators do not need a period(comma). \n",
    "\n",
    "### Example ###\n",
    "Here are some examples about extracting indicators and types of triples: \n",
    "    example_user: Extract indicators and triples from the following text: \"The reporting organization shall report the following information:  a. Total weight of waste generated in metric tons, and a breakdown of this total by composition of the waste. b. Contextual information necessary to understand the data and how the data has been compiled.\" \n",
    "    example_assistant: {{\"indicators\": [\"Total weight of waste generated in metric tons\"], \"triples\": [\"(Total weight of waste generated in metric tons, has quantity kind, weight)\", \"(Total weight of waste generated in metric tons, has measurement phenomenon, waste generated)\",\"(Total weight of waste generated in metric tons, has unit, metric tons)\", \"(Total weight of waste generated in metric tons, has applicability, mandatory)\"]}} \"\"\"\n",
    "\n",
    "# Create a ChatPromptTemplate instance\n",
    "prompt = ChatPromptTemplate.from_messages([(\"system\", system), (\"human\", \"{input}\")])\n",
    "\n",
    "# Initialize the LLM with structured output\n",
    "model = ChatOpenAI(model=\"gpt-4-0125-preview\", temperature=0)\n",
    "structured_llm = model.with_structured_output(IndicatorTriples)\n",
    "\n",
    "# Combine the prompt and the structured LLM to create a chain\n",
    "prompt_structured_llm = prompt | structured_llm"
   ]
  },
  {
   "cell_type": "markdown",
   "metadata": {},
   "source": [
    "## Chain"
   ]
  },
  {
   "cell_type": "code",
   "execution_count": 9,
   "metadata": {},
   "outputs": [
    {
     "name": "stdout",
     "output_type": "stream",
     "text": [
      "Results written to ./output/triples_GRI_306.json\n"
     ]
    }
   ],
   "source": [
    "import json\n",
    "\n",
    "# Save path\n",
    "filename = \"./output/triples_GRI_306.json\"\n",
    "# Initialize the dictionary to store the triples\n",
    "triples_dict = {}\n",
    "\n",
    "# Process each page and extract indicators and triples\n",
    "for i, page_text in enumerate(pages):\n",
    "    result = prompt_structured_llm.invoke({\"input\": page_text})\n",
    "    triples_dict[f\"Page_{i}\"] = result.dict()  # Directly storing the dictionary\n",
    "\n",
    "# Convert results to JSON format\n",
    "with open(filename, 'w') as file:\n",
    "    json.dump(triples_dict, file, indent=4)\n",
    "\n",
    "print(f\"Results written to {filename}\")\n"
   ]
  }
 ],
 "metadata": {
  "kernelspec": {
   "display_name": "LangChain",
   "language": "python",
   "name": "python3"
  },
  "language_info": {
   "codemirror_mode": {
    "name": "ipython",
    "version": 3
   },
   "file_extension": ".py",
   "mimetype": "text/x-python",
   "name": "python",
   "nbconvert_exporter": "python",
   "pygments_lexer": "ipython3",
   "version": "3.11.8"
  }
 },
 "nbformat": 4,
 "nbformat_minor": 2
}
